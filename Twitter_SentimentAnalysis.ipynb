{
  "cells": [
    {
      "cell_type": "code",
      "execution_count": null,
      "metadata": {
        "id": "4PwNnBXWj6XN"
      },
      "outputs": [],
      "source": [
        "# sentimental analysis of tweets using python"
      ]
    },
    {
      "cell_type": "code",
      "execution_count": null,
      "metadata": {
        "colab": {
          "base_uri": "https://localhost:8080/"
        },
        "id": "TEyqJTjd7Bzi",
        "outputId": "be0ed451-696d-463d-c364-727922a83a95"
      },
      "outputs": [
        {
          "name": "stdout",
          "output_type": "stream",
          "text": [
            "Requirement already satisfied: tweepy in /usr/local/lib/python3.7/dist-packages (3.10.0)\n",
            "Requirement already satisfied: requests-oauthlib>=0.7.0 in /usr/local/lib/python3.7/dist-packages (from tweepy) (1.3.0)\n",
            "Requirement already satisfied: requests[socks]>=2.11.1 in /usr/local/lib/python3.7/dist-packages (from tweepy) (2.23.0)\n",
            "Requirement already satisfied: six>=1.10.0 in /usr/local/lib/python3.7/dist-packages (from tweepy) (1.15.0)\n",
            "Requirement already satisfied: oauthlib>=3.0.0 in /usr/local/lib/python3.7/dist-packages (from requests-oauthlib>=0.7.0->tweepy) (3.1.1)\n",
            "Requirement already satisfied: urllib3!=1.25.0,!=1.25.1,<1.26,>=1.21.1 in /usr/local/lib/python3.7/dist-packages (from requests[socks]>=2.11.1->tweepy) (1.24.3)\n",
            "Requirement already satisfied: certifi>=2017.4.17 in /usr/local/lib/python3.7/dist-packages (from requests[socks]>=2.11.1->tweepy) (2021.10.8)\n",
            "Requirement already satisfied: idna<3,>=2.5 in /usr/local/lib/python3.7/dist-packages (from requests[socks]>=2.11.1->tweepy) (2.10)\n",
            "Requirement already satisfied: chardet<4,>=3.0.2 in /usr/local/lib/python3.7/dist-packages (from requests[socks]>=2.11.1->tweepy) (3.0.4)\n",
            "Requirement already satisfied: PySocks!=1.5.7,>=1.5.6 in /usr/local/lib/python3.7/dist-packages (from requests[socks]>=2.11.1->tweepy) (1.7.1)\n"
          ]
        }
      ],
      "source": [
        "!pip install tweepy"
      ]
    },
    {
      "cell_type": "code",
      "execution_count": null,
      "metadata": {
        "id": "TaEE60Vjwjlb"
      },
      "outputs": [],
      "source": [
        "# import the libraries\n",
        "import tweepy as tw\n",
        "from textblob import TextBlob\n",
        "from wordcloud import wordcloud\n",
        "import pandas as pd\n",
        "import numpy as np\n",
        "import matplotlib.pyplot as plt\n",
        "plt.style.use('fivethirtyeight')"
      ]
    },
    {
      "cell_type": "code",
      "execution_count": null,
      "metadata": {
        "id": "xA732IlrPH3w"
      },
      "outputs": [],
      "source": [
        "consumer_key= 'YdmKJOZn2qbsAmWYsfoiKIDPh'\n",
        "consumer_secret= 'rE8gALmFH3t9e2tUX7kpJEODsHfmjpNKI0ahZpxqSIKM1fUec9'\n",
        "access_token= '1463181631913488387-iRdBw37ujq5LVJ7gVL6ZG8JjauULb3'\n",
        "access_token_secret= 'ozASyMpjoSfOmCwWxodY1ww1VzmTIXaorFBupGkBMdlf4'"
      ]
    },
    {
      "cell_type": "code",
      "execution_count": null,
      "metadata": {
        "id": "Ze82oHcqSfbo"
      },
      "outputs": [],
      "source": [
        "auth = tw.OAuthHandler(consumer_key, consumer_secret)\n",
        "auth.set_access_token(access_token, access_token_secret)\n",
        "api = tw.API(auth)"
      ]
    },
    {
      "cell_type": "code",
      "execution_count": null,
      "metadata": {
        "colab": {
          "base_uri": "https://localhost:8080/",
          "height": 310
        },
        "id": "ipEZB7Xc7aIq",
        "outputId": "dbca650f-3ece-4733-96e2-9c37a6bfce02"
      },
      "outputs": [
        {
          "ename": "TweepError",
          "evalue": "ignored",
          "output_type": "error",
          "traceback": [
            "\u001b[0;31m---------------------------------------------------------------------------\u001b[0m",
            "\u001b[0;31mTweepError\u001b[0m                                Traceback (most recent call last)",
            "\u001b[0;32m<ipython-input-6-d904867c2010>\u001b[0m in \u001b[0;36m<module>\u001b[0;34m()\u001b[0m\n\u001b[0;32m----> 1\u001b[0;31m \u001b[0mpublic_tweets\u001b[0m\u001b[0;34m=\u001b[0m\u001b[0mapi\u001b[0m\u001b[0;34m.\u001b[0m\u001b[0msearch\u001b[0m\u001b[0;34m(\u001b[0m\u001b[0;34m'Trump'\u001b[0m\u001b[0;34m)\u001b[0m\u001b[0;34m\u001b[0m\u001b[0;34m\u001b[0m\u001b[0m\n\u001b[0m",
            "\u001b[0;32m/usr/local/lib/python3.7/dist-packages/tweepy/binder.py\u001b[0m in \u001b[0;36m_call\u001b[0;34m(*args, **kwargs)\u001b[0m\n\u001b[1;32m    251\u001b[0m                 \u001b[0;32mreturn\u001b[0m \u001b[0mmethod\u001b[0m\u001b[0;34m\u001b[0m\u001b[0;34m\u001b[0m\u001b[0m\n\u001b[1;32m    252\u001b[0m             \u001b[0;32melse\u001b[0m\u001b[0;34m:\u001b[0m\u001b[0;34m\u001b[0m\u001b[0;34m\u001b[0m\u001b[0m\n\u001b[0;32m--> 253\u001b[0;31m                 \u001b[0;32mreturn\u001b[0m \u001b[0mmethod\u001b[0m\u001b[0;34m.\u001b[0m\u001b[0mexecute\u001b[0m\u001b[0;34m(\u001b[0m\u001b[0;34m)\u001b[0m\u001b[0;34m\u001b[0m\u001b[0;34m\u001b[0m\u001b[0m\n\u001b[0m\u001b[1;32m    254\u001b[0m         \u001b[0;32mfinally\u001b[0m\u001b[0;34m:\u001b[0m\u001b[0;34m\u001b[0m\u001b[0;34m\u001b[0m\u001b[0m\n\u001b[1;32m    255\u001b[0m             \u001b[0mmethod\u001b[0m\u001b[0;34m.\u001b[0m\u001b[0msession\u001b[0m\u001b[0;34m.\u001b[0m\u001b[0mclose\u001b[0m\u001b[0;34m(\u001b[0m\u001b[0;34m)\u001b[0m\u001b[0;34m\u001b[0m\u001b[0;34m\u001b[0m\u001b[0m\n",
            "\u001b[0;32m/usr/local/lib/python3.7/dist-packages/tweepy/binder.py\u001b[0m in \u001b[0;36mexecute\u001b[0;34m(self)\u001b[0m\n\u001b[1;32m    232\u001b[0m                     \u001b[0;32mraise\u001b[0m \u001b[0mRateLimitError\u001b[0m\u001b[0;34m(\u001b[0m\u001b[0merror_msg\u001b[0m\u001b[0;34m,\u001b[0m \u001b[0mresp\u001b[0m\u001b[0;34m)\u001b[0m\u001b[0;34m\u001b[0m\u001b[0;34m\u001b[0m\u001b[0m\n\u001b[1;32m    233\u001b[0m                 \u001b[0;32melse\u001b[0m\u001b[0;34m:\u001b[0m\u001b[0;34m\u001b[0m\u001b[0;34m\u001b[0m\u001b[0m\n\u001b[0;32m--> 234\u001b[0;31m                     \u001b[0;32mraise\u001b[0m \u001b[0mTweepError\u001b[0m\u001b[0;34m(\u001b[0m\u001b[0merror_msg\u001b[0m\u001b[0;34m,\u001b[0m \u001b[0mresp\u001b[0m\u001b[0;34m,\u001b[0m \u001b[0mapi_code\u001b[0m\u001b[0;34m=\u001b[0m\u001b[0mapi_error_code\u001b[0m\u001b[0;34m)\u001b[0m\u001b[0;34m\u001b[0m\u001b[0;34m\u001b[0m\u001b[0m\n\u001b[0m\u001b[1;32m    235\u001b[0m \u001b[0;34m\u001b[0m\u001b[0m\n\u001b[1;32m    236\u001b[0m             \u001b[0;31m# Parse the response payload\u001b[0m\u001b[0;34m\u001b[0m\u001b[0;34m\u001b[0m\u001b[0;34m\u001b[0m\u001b[0m\n",
            "\u001b[0;31mTweepError\u001b[0m: [{'code': 215, 'message': 'Bad Authentication data.'}]"
          ]
        }
      ],
      "source": [
        "public_tweets=api.search('Trump')"
      ]
    },
    {
      "cell_type": "code",
      "execution_count": null,
      "metadata": {
        "colab": {
          "base_uri": "https://localhost:8080/"
        },
        "id": "Ps2cpMUBY5V1",
        "outputId": "54646a63-55e9-4a47-de77-82f08f4a6657"
      },
      "outputs": [
        {
          "data": {
            "text/plain": [
              "<tweepy.cursor.Cursor at 0x7fd8cd4fa310>"
            ]
          },
          "execution_count": 5,
          "metadata": {},
          "output_type": "execute_result"
        }
      ],
      "source": [
        "tweets = tw.Cursor(api.search,\n",
        "              search_words='AajTak',\n",
        "              lang=\"en\")\n",
        "tweets\n"
      ]
    },
    {
      "cell_type": "code",
      "execution_count": null,
      "metadata": {
        "id": "zlQ7OfjqSjqH"
      },
      "outputs": [],
      "source": [
        "# Collect tweets\n",
        "tweets = tw.Cursor(api.search,\n",
        "              search_words=\"AajTak\",\n",
        "              lang=\"en\")\n",
        "\n"
      ]
    },
    {
      "cell_type": "code",
      "execution_count": null,
      "metadata": {
        "colab": {
          "base_uri": "https://localhost:8080/"
        },
        "id": "PmEXvZya36Fb",
        "outputId": "e98c7ec6-0baf-4b57-8ade-00ab7d75c7c5"
      },
      "outputs": [
        {
          "name": "stdout",
          "output_type": "stream",
          "text": [
            "Collecting cursor\n",
            "  Downloading cursor-1.3.4.tar.gz (14 kB)\n",
            "Building wheels for collected packages: cursor\n",
            "  Building wheel for cursor (setup.py) ... \u001b[?25l\u001b[?25hdone\n",
            "  Created wheel for cursor: filename=cursor-1.3.4-py3-none-any.whl size=14593 sha256=6b41e1ba02b3a3e87959de776aac21c3ca80b85c30cc8c7cc5ae68269882106b\n",
            "  Stored in directory: /root/.cache/pip/wheels/5e/13/66/cef8d13c646249ff3c0823f2ce11f0a1800feab8164cb5a7c8\n",
            "Successfully built cursor\n",
            "Installing collected packages: cursor\n",
            "Successfully installed cursor-1.3.4\n"
          ]
        }
      ],
      "source": [
        "!pip install cursor"
      ]
    },
    {
      "cell_type": "code",
      "execution_count": null,
      "metadata": {
        "id": "pvc7mQGt4Fcm"
      },
      "outputs": [],
      "source": [
        "import cursor "
      ]
    },
    {
      "cell_type": "code",
      "execution_count": null,
      "metadata": {
        "colab": {
          "base_uri": "https://localhost:8080/",
          "height": 165
        },
        "id": "7XTbLtCQbENe",
        "outputId": "fe492242-e739-46f5-d5eb-2cb2205d2abe"
      },
      "outputs": [
        {
          "ename": "AttributeError",
          "evalue": "ignored",
          "output_type": "error",
          "traceback": [
            "\u001b[0;31m---------------------------------------------------------------------------\u001b[0m",
            "\u001b[0;31mAttributeError\u001b[0m                            Traceback (most recent call last)",
            "\u001b[0;32m<ipython-input-29-80c39dd0b302>\u001b[0m in \u001b[0;36m<module>\u001b[0;34m()\u001b[0m\n\u001b[0;32m----> 1\u001b[0;31m \u001b[0mtw\u001b[0m\u001b[0;34m.\u001b[0m\u001b[0mlist\u001b[0m\u001b[0;34m(\u001b[0m\u001b[0mcursor\u001b[0m\u001b[0;34m(\u001b[0m\u001b[0mlist\u001b[0m\u001b[0;34m(\u001b[0m\u001b[0mtweet\u001b[0m\u001b[0;34m.\u001b[0m\u001b[0mtext\u001b[0m \u001b[0;32mfor\u001b[0m \u001b[0mtweet\u001b[0m \u001b[0;32min\u001b[0m \u001b[0mtweets\u001b[0m\u001b[0;34m)\u001b[0m\u001b[0;34m)\u001b[0m\u001b[0;34m)\u001b[0m\u001b[0;34m\u001b[0m\u001b[0;34m\u001b[0m\u001b[0m\n\u001b[0m",
            "\u001b[0;31mAttributeError\u001b[0m: module 'tweepy' has no attribute 'list'"
          ]
        }
      ],
      "source": [
        "tw.(cursor(list(tweet.text for tweet in tweets)))"
      ]
    },
    {
      "cell_type": "code",
      "execution_count": null,
      "metadata": {
        "colab": {
          "base_uri": "https://localhost:8080/",
          "height": 200
        },
        "id": "jRF6QAIuTDDh",
        "outputId": "bdae720f-a9a2-4325-dbfb-f5deee61eae9"
      },
      "outputs": [
        {
          "ename": "TypeError",
          "evalue": "ignored",
          "output_type": "error",
          "traceback": [
            "\u001b[0;31m---------------------------------------------------------------------------\u001b[0m",
            "\u001b[0;31mTypeError\u001b[0m                                 Traceback (most recent call last)",
            "\u001b[0;32m<ipython-input-8-8006f4412623>\u001b[0m in \u001b[0;36m<module>\u001b[0;34m()\u001b[0m\n\u001b[1;32m      1\u001b[0m \u001b[0;31m# Iterate and print tweets\u001b[0m\u001b[0;34m\u001b[0m\u001b[0;34m\u001b[0m\u001b[0;34m\u001b[0m\u001b[0m\n\u001b[0;32m----> 2\u001b[0;31m \u001b[0;32mfor\u001b[0m \u001b[0mtweet\u001b[0m \u001b[0;32min\u001b[0m \u001b[0mtweets\u001b[0m\u001b[0;34m:\u001b[0m\u001b[0;34m\u001b[0m\u001b[0;34m\u001b[0m\u001b[0m\n\u001b[0m\u001b[1;32m      3\u001b[0m     \u001b[0mprint\u001b[0m\u001b[0;34m(\u001b[0m\u001b[0mtweet\u001b[0m\u001b[0;34m.\u001b[0m\u001b[0mtext\u001b[0m\u001b[0;34m)\u001b[0m\u001b[0;34m\u001b[0m\u001b[0;34m\u001b[0m\u001b[0m\n",
            "\u001b[0;31mTypeError\u001b[0m: 'Cursor' object is not iterable"
          ]
        }
      ],
      "source": [
        "# Iterate and print tweets\n",
        "for tweet in tweets:\n",
        "    print(tweet.text)"
      ]
    },
    {
      "cell_type": "code",
      "execution_count": null,
      "metadata": {
        "colab": {
          "base_uri": "https://localhost:8080/",
          "height": 165
        },
        "id": "N9Feg4AzX-6D",
        "outputId": "7b02baa6-ec66-4c12-891e-274471f36502"
      },
      "outputs": [
        {
          "ename": "NameError",
          "evalue": "ignored",
          "output_type": "error",
          "traceback": [
            "\u001b[0;31m---------------------------------------------------------------------------\u001b[0m",
            "\u001b[0;31mNameError\u001b[0m                                 Traceback (most recent call last)",
            "\u001b[0;32m<ipython-input-9-77815b1ace5e>\u001b[0m in \u001b[0;36m<module>\u001b[0;34m()\u001b[0m\n\u001b[0;32m----> 1\u001b[0;31m \u001b[0mit\u001b[0m \u001b[0;34m=\u001b[0m \u001b[0miter\u001b[0m\u001b[0;34m(\u001b[0m\u001b[0mcursor\u001b[0m\u001b[0;34m.\u001b[0m\u001b[0mfetchall\u001b[0m\u001b[0;34m(\u001b[0m\u001b[0;34m)\u001b[0m\u001b[0;34m)\u001b[0m\u001b[0;34m\u001b[0m\u001b[0;34m\u001b[0m\u001b[0m\n\u001b[0m",
            "\u001b[0;31mNameError\u001b[0m: name 'cursor' is not defined"
          ]
        }
      ],
      "source": [
        "it = iter(cursor.fetchall())"
      ]
    },
    {
      "cell_type": "code",
      "execution_count": null,
      "metadata": {
        "colab": {
          "base_uri": "https://localhost:8080/",
          "height": 165
        },
        "id": "mMzJwCYxYUKk",
        "outputId": "2003aad8-bbe8-4c0c-da09-6f6a36b06afe"
      },
      "outputs": [
        {
          "ename": "NameError",
          "evalue": "ignored",
          "output_type": "error",
          "traceback": [
            "\u001b[0;31m---------------------------------------------------------------------------\u001b[0m",
            "\u001b[0;31mNameError\u001b[0m                                 Traceback (most recent call last)",
            "\u001b[0;32m<ipython-input-10-ee8f23b0ca4f>\u001b[0m in \u001b[0;36m<module>\u001b[0;34m()\u001b[0m\n\u001b[0;32m----> 1\u001b[0;31m \u001b[0mit\u001b[0m \u001b[0;34m=\u001b[0m \u001b[0miter\u001b[0m\u001b[0;34m(\u001b[0m\u001b[0mcursor\u001b[0m\u001b[0;34m)\u001b[0m\u001b[0;34m\u001b[0m\u001b[0;34m\u001b[0m\u001b[0m\n\u001b[0m",
            "\u001b[0;31mNameError\u001b[0m: name 'cursor' is not defined"
          ]
        }
      ],
      "source": [
        "it = iter(cursor)"
      ]
    },
    {
      "cell_type": "code",
      "execution_count": null,
      "metadata": {
        "colab": {
          "base_uri": "https://localhost:8080/",
          "height": 234
        },
        "id": "NbiIQ9PLYkhO",
        "outputId": "fc6dae0d-2a25-4712-c66b-9d1efe2c1670"
      },
      "outputs": [
        {
          "name": "stdout",
          "output_type": "stream",
          "text": [
            "Requirement already satisfied: pyodbc in /usr/local/lib/python3.7/dist-packages (4.0.32)\n"
          ]
        },
        {
          "ename": "TypeError",
          "evalue": "ignored",
          "output_type": "error",
          "traceback": [
            "\u001b[0;31m---------------------------------------------------------------------------\u001b[0m",
            "\u001b[0;31mTypeError\u001b[0m                                 Traceback (most recent call last)",
            "\u001b[0;32m<ipython-input-21-78e810005131>\u001b[0m in \u001b[0;36m<module>\u001b[0;34m()\u001b[0m\n\u001b[1;32m      5\u001b[0m conn = pyodbc.connect(api.search,\n\u001b[1;32m      6\u001b[0m               \u001b[0msearch_words\u001b[0m\u001b[0;34m=\u001b[0m\u001b[0;34m\"AajTak\"\u001b[0m\u001b[0;34m,\u001b[0m\u001b[0;34m\u001b[0m\u001b[0;34m\u001b[0m\u001b[0m\n\u001b[0;32m----> 7\u001b[0;31m               lang=\"en\")\n\u001b[0m\u001b[1;32m      8\u001b[0m \u001b[0mcursor\u001b[0m \u001b[0;34m=\u001b[0m \u001b[0mconn\u001b[0m\u001b[0;34m.\u001b[0m\u001b[0mcursor\u001b[0m\u001b[0;34m(\u001b[0m\u001b[0;34m)\u001b[0m\u001b[0;34m\u001b[0m\u001b[0;34m\u001b[0m\u001b[0m\n",
            "\u001b[0;31mTypeError\u001b[0m: argument 1 must be a string or unicode object"
          ]
        }
      ],
      "source": [
        "!pip install pyodbc\n",
        "import pyodbc\n",
        "import pandas as pd\n",
        "posts=[]\n",
        "conn = pyodbc.connect(api.search,\n",
        "              search_words=\"AajTak\",\n",
        "              lang=\"en\")\n",
        "cursor = conn.cursor()"
      ]
    },
    {
      "cell_type": "code",
      "execution_count": null,
      "metadata": {
        "id": "ES5PrKwK9wSu"
      },
      "outputs": [],
      "source": [
        "import nltk"
      ]
    },
    {
      "cell_type": "code",
      "execution_count": null,
      "metadata": {
        "colab": {
          "base_uri": "https://localhost:8080/"
        },
        "id": "8mIroBct-V2Y",
        "outputId": "4b02aa8a-af49-44e1-b3dd-7b3efa69e037"
      },
      "outputs": [
        {
          "name": "stdout",
          "output_type": "stream",
          "text": [
            "Error : [{'message': 'You currently have Essential access which includes access to Twitter API v2 endpoints only. If you need access to this endpoint, you’ll need to apply for Elevated access via the Developer Portal. You can learn more here: https://developer.twitter.com/en/docs/twitter-api/getting-started/about-twitter-api#v2-access-leve', 'code': 453}]\n"
          ]
        }
      ],
      "source": [
        "import re\n",
        "import tweepy\n",
        "from tweepy import OAuthHandler\n",
        "from textblob import TextBlob\n",
        "\n",
        "class TwitterClient(object):\n",
        "\t'''\n",
        "\tGeneric Twitter Class for sentiment analysis.\n",
        "\t'''\n",
        "\tdef __init__(self):\n",
        "\t\t'''\n",
        "\t\tClass constructor or initialization method.\n",
        "\t\t'''\n",
        "\t\t# keys and tokens from the Twitter Dev Console\n",
        "\t\tconsumer_key = 'XPz021HGnNELdOPjxlIIJz09z'\n",
        "\t\tconsumer_secret = 'nLwhNjlWGUDPnyW3c31pwU1eQGCWDfRB4vvG8pgZwnJIm44Hnj'\n",
        "\t\taccess_token = '1463090784819834885-EYpqGvDHt35W2vywsqb7ka7puwHLaJ'\n",
        "\t\taccess_token_secret = 'WzqVYaNqbIS7SzMCneDO80gp4Y70zK2bAuFoxFIQvlVnM'\n",
        "\n",
        "\t\t# attempt authentication\n",
        "\t\ttry:\n",
        "\t\t\t# create OAuthHandler object\n",
        "\t\t\tself.auth = OAuthHandler(consumer_key, consumer_secret)\n",
        "\t\t\t# set access token and secret\n",
        "\t\t\tself.auth.set_access_token(access_token, access_token_secret)\n",
        "\t\t\t# create tweepy API object to fetch tweets\n",
        "\t\t\tself.api = tweepy.API(self.auth)\n",
        "\t\texcept:\n",
        "\t\t\tprint(\"Error: Authentication Failed\")\n",
        "\n",
        "\tdef clean_tweet(self, tweet):\n",
        "\t\t'''\n",
        "\t\tUtility function to clean tweet text by removing links, special characters\n",
        "\t\tusing simple regex statements.\n",
        "\t\t'''\n",
        "\t\treturn ' '.join(re.sub(\"(@[A-Za-z0-9]+)|([^0-9A-Za-z \\t])\t|(\\w+:\\/\\/\\S+)\", \" \", tweet).split())\n",
        "\n",
        "\tdef get_tweet_sentiment(self, tweet):\n",
        "\t\t'''\n",
        "\t\tUtility function to classify sentiment of passed tweet\n",
        "\t\tusing textblob's sentiment method\n",
        "\t\t'''\n",
        "\t\t# create TextBlob object of passed tweet text\n",
        "\t\tanalysis = TextBlob(self.clean_tweet(tweet))\n",
        "\t\t# set sentiment\n",
        "\t\tif analysis.sentiment.polarity > 0:\n",
        "\t\t\treturn 'positive'\n",
        "\t\telif analysis.sentiment.polarity == 0:\n",
        "\t\t\treturn 'neutral'\n",
        "\t\telse:\n",
        "\t\t\treturn 'negative'\n",
        "\n",
        "\tdef get_tweets(self, query, count = 10):\n",
        "\t\t'''\n",
        "\t\tMain function to fetch tweets and parse them.\n",
        "\t\t'''\n",
        "\t\t# empty list to store parsed tweets\n",
        "\t\ttweets = []\n",
        "\n",
        "\t\ttry:\n",
        "\t\t\t# call twitter api to fetch tweets\n",
        "\t\t\tfetched_tweets = self.api.search(q = query, count = count)\n",
        "\n",
        "\t\t\t# parsing tweets one by one\n",
        "\t\t\tfor tweet in fetched_tweets:\n",
        "\t\t\t\t# empty dictionary to store required params of a tweet\n",
        "\t\t\t\tparsed_tweet = {}\n",
        "\n",
        "\t\t\t\t# saving text of tweet\n",
        "\t\t\t\tparsed_tweet['text'] = tweet.text\n",
        "\t\t\t\t# saving sentiment of tweet\n",
        "\t\t\t\tparsed_tweet['sentiment'] = self.get_tweet_sentiment(tweet.text)\n",
        "\n",
        "\t\t\t\t# appending parsed tweet to tweets list\n",
        "\t\t\t\tif tweet.retweet_count > 0:\n",
        "\t\t\t\t\t# if tweet has retweets, ensure that it is appended only once\n",
        "\t\t\t\t\tif parsed_tweet not in tweets:\n",
        "\t\t\t\t\t\ttweets.append(parsed_tweet)\n",
        "\t\t\t\telse:\n",
        "\t\t\t\t\ttweets.append(parsed_tweet)\n",
        "\n",
        "\t\t\t# return parsed tweets\n",
        "\t\t\treturn tweets\n",
        "\n",
        "\t\texcept tweepy.TweepError as e:\n",
        "\t\t\t# print error (if any)\n",
        "\t\t\tprint(\"Error : \" + str(e))\n",
        "\n",
        "def main():\n",
        "\t# creating object of TwitterClient Class\n",
        "\tapi = TwitterClient()\n",
        "\t# calling function to get tweets\n",
        "\ttweets = api.get_tweets(query = 'Donald Trump', count = 200)\n",
        " \n",
        "if __name__ == \"__main__\":\n",
        "\t# calling main function\n",
        "\tmain()\n"
      ]
    },
    {
      "cell_type": "code",
      "execution_count": null,
      "metadata": {
        "id": "_yMDShsXAvGR"
      },
      "outputs": [],
      "source": [
        "\t# picking positive tweets from tweets\n",
        "\tptweets =[tweet for tweet in tweets if tweet['sentiment'] == 'positive']\n",
        "\t# percentage of positive tweets\n",
        "\tprint(\"Positive tweets percentage: {} %\".format(100*len(ptweets)/len(tweets)))\n",
        "\t# picking negative tweets from tweets\n",
        "\tntweets = [tweet for tweet in tweets if tweet['sentiment'] == 'negative']\n",
        "\t# percentage of negative tweets\n",
        "\tprint(\"Negative tweets percentage: {} %\".format(100*len(ntweets)/len(tweets)))\n",
        "\t# percentage of neutral tweets\n",
        "\tprint(\"Neutral tweets percentage: {} % \\\n",
        "\t\t\".format(100*(len(tweets) -(len( ntweets )+len( ptweets)))/len(tweets)))\n",
        "\n",
        "\t# printing first 5 positive tweets\n",
        "\tprint(\"\\n\\nPositive tweets:\")\n",
        "\tfor tweet in ptweets[:10]:\n",
        "\t\tprint(tweet['text'])\n",
        "\n",
        "\t# printing first 5 negative tweets\n",
        "\tprint(\"\\n\\nNegative tweets:\")\n",
        "\tfor tweet in ntweets[:10]:\n",
        "\t\tprint(tweet['text'])\n"
      ]
    },
    {
      "cell_type": "code",
      "execution_count": null,
      "metadata": {
        "id": "CUqOC0kTTff6"
      },
      "outputs": [],
      "source": []
    },
    {
      "cell_type": "code",
      "execution_count": null,
      "metadata": {
        "colab": {
          "base_uri": "https://localhost:8080/",
          "height": 130
        },
        "id": "-Mt36ev6Tfhz",
        "outputId": "0bc5fccd-7eae-44cb-f047-18dbe6660e2b"
      },
      "outputs": [
        {
          "ename": "SyntaxError",
          "evalue": "ignored",
          "output_type": "error",
          "traceback": [
            "\u001b[0;36m  File \u001b[0;32m\"<ipython-input-14-c6c2ee60b5a3>\"\u001b[0;36m, line \u001b[0;32m3\u001b[0m\n\u001b[0;31m    connection-host = \"https://api.twitter.com/1.1/\"\u001b[0m\n\u001b[0m                                                     ^\u001b[0m\n\u001b[0;31mSyntaxError\u001b[0m\u001b[0;31m:\u001b[0m can't assign to operator\n"
          ]
        }
      ],
      "source": [
        "connection =TwitterOAuth(consumer_key, consumer_secret,access_token, access_token_secret )\n",
        "\n",
        "connection-host = \"https://api.twitter.com/1.1/\" \n",
        "connection-ssl_verifypeer = TRUE;\n",
        "connection-content_type = 'application/x-www-form-urlencoded'\n",
        "\n",
        "tweets = connection-get('http://api.twitter.com/1.1/statuses/user_timeline.json?screen_name=',screen_name='DonalTrump',count=100)"
      ]
    },
    {
      "cell_type": "code",
      "execution_count": null,
      "metadata": {
        "id": "T-qfD77eTslG"
      },
      "outputs": [],
      "source": []
    }
  ],
  "metadata": {
    "colab": {
      "collapsed_sections": [],
      "name": "Untitled15.ipynb",
      "provenance": [],
      "toc_visible": true
    },
    "kernelspec": {
      "display_name": "Python 3",
      "name": "python3"
    },
    "language_info": {
      "name": "python"
    }
  },
  "nbformat": 4,
  "nbformat_minor": 0
}
